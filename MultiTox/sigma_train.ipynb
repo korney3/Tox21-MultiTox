{
 "cells": [
  {
   "cell_type": "code",
   "execution_count": 1,
   "metadata": {},
   "outputs": [],
   "source": [
    "import pandas as pd\n",
    "import os"
   ]
  },
  {
   "cell_type": "code",
   "execution_count": 4,
   "metadata": {},
   "outputs": [],
   "source": [
    "DATA_DIR = './database'\n",
    "filename = 'MultiTox.csv'"
   ]
  },
  {
   "cell_type": "markdown",
   "metadata": {},
   "source": [
    "## Get some data from overall dataset"
   ]
  },
  {
   "cell_type": "code",
   "execution_count": 5,
   "metadata": {},
   "outputs": [],
   "source": [
    "THRESH_NAN = 3"
   ]
  },
  {
   "cell_type": "code",
   "execution_count": 6,
   "metadata": {},
   "outputs": [],
   "source": [
    "data = pd.read_csv(os.path.join(DATA_DIR,filename))"
   ]
  },
  {
   "cell_type": "code",
   "execution_count": 7,
   "metadata": {},
   "outputs": [],
   "source": [
    "columns = list(data)\n",
    "columns.remove('SMILES')"
   ]
  },
  {
   "cell_type": "code",
   "execution_count": 8,
   "metadata": {},
   "outputs": [],
   "source": [
    "nan = False\n",
    "for i in range(int(len(data)/10)):\n",
    "    data_selected = data.iloc[:i*10]\n",
    "    for column in columns:\n",
    "        if (~data_selected[column].isna()).sum()<THRESH_NAN:\n",
    "            nan = True\n",
    "            break\n",
    "    if nan: \n",
    "        nan = False\n",
    "        continue\n",
    "    else:\n",
    "        break"
   ]
  },
  {
   "cell_type": "code",
   "execution_count": 9,
   "metadata": {},
   "outputs": [
    {
     "name": "stdout",
     "output_type": "stream",
     "text": [
      "min not Nan values\t 3\n",
      "dataset length\t\t 1480\n",
      "o_mus_ipr_LD \t\t 576\n",
      "o_rat_orl_TDLo \t\t 19\n",
      "o_mus_ipr_LDLo \t\t 37\n",
      "o_mus_orl_TDLo \t\t 19\n",
      "o_rat_ipr_TDLo \t\t 22\n",
      "o_mus_ivn_LD \t\t 265\n",
      "o_rat_ipr_LD \t\t 74\n",
      "o_mus_orl_LD \t\t 536\n",
      "o_mus_unr_LD \t\t 27\n",
      "o_rat_unr_LD \t\t 5\n",
      "o_mus_scu_LDLo \t\t 4\n",
      "o_rat_scu_LD \t\t 26\n",
      "o_mus_scu_LD \t\t 81\n",
      "o_rat_ipr_LDLo \t\t 17\n",
      "o_mus_ipr_TDLo \t\t 22\n",
      "o_rbt_skn_LD \t\t 40\n",
      "o_rat_orl_LD \t\t 168\n",
      "o_rat_ivn_TDLo \t\t 6\n",
      "o_rat_orl_LDLo \t\t 21\n",
      "o_rbt_orl_LD \t\t 11\n",
      "o_rbt_ivn_LD \t\t 3\n",
      "o_rat_ivn_LD \t\t 23\n",
      "o_mus_orl_LDLo \t\t 22\n",
      "o_rat_skn_LD \t\t 15\n",
      "o_mam_unr_LD \t\t 9\n",
      "o_gpg_orl_LD \t\t 14\n",
      "o_wmn_orl_TDLo \t\t 9\n",
      "o_man_orl_TDLo \t\t 3\n",
      "o_rat_scu_TDLo \t\t 5\n"
     ]
    }
   ],
   "source": [
    "print('min not Nan values\\t', THRESH_NAN)\n",
    "print('dataset length\\t\\t', len(data_selected))\n",
    "for column in columns:\n",
    "    print(column,'\\t\\t', (~data_selected[column].isna()).sum())"
   ]
  },
  {
   "cell_type": "code",
   "execution_count": 11,
   "metadata": {},
   "outputs": [],
   "source": [
    "import numpy as np\n",
    "from rdkit import Chem\n",
    "from rdkit.Chem import AllChem\n",
    "from rdkit.Chem import rdMolTransforms as rdmt"
   ]
  },
  {
   "cell_type": "code",
   "execution_count": 31,
   "metadata": {},
   "outputs": [],
   "source": [
    "#number of conformers created for every molecule\n",
    "NUM_CONFS=100\n",
    "\n",
    "#amount of chemical elements taking into account\n",
    "AMOUNT_OF_ELEM=10"
   ]
  },
  {
   "cell_type": "code",
   "execution_count": 36,
   "metadata": {},
   "outputs": [],
   "source": [
    "def create_element_dict(data,amount=9,treshold=10, add_H=False):\n",
    "    elements={}\n",
    "    norm=0\n",
    "    for smile in data['SMILES']:\n",
    "        molecule=Chem.MolFromSmiles(smile)\n",
    "        molecule=Chem.AddHs(molecule)\n",
    "\n",
    "        for i in range(molecule.GetNumAtoms()):\n",
    "            atom = molecule.GetAtomWithIdx(i)\n",
    "            element=atom.GetSymbol()\n",
    "            norm+=1\n",
    "            if element in elements.keys():\n",
    "                elements[element]+=1\n",
    "            else:\n",
    "                elements[element]=1\n",
    "    for key in elements.keys():\n",
    "        elements[key]/=norm\n",
    "    from collections import OrderedDict\n",
    "    dd = OrderedDict(sorted(elements.items(), key=lambda x: x[1]))\n",
    "    elements=list(dd.keys())[-amount:]  \n",
    "    elements=dict((elem,i) for i, elem in enumerate(elements))  \n",
    "    if not add_H:\n",
    "        del elements['H']\n",
    "    return elements"
   ]
  },
  {
   "cell_type": "code",
   "execution_count": 37,
   "metadata": {},
   "outputs": [],
   "source": [
    "elements=create_element_dict(data,amount=AMOUNT_OF_ELEM)"
   ]
  },
  {
   "cell_type": "code",
   "execution_count": 38,
   "metadata": {},
   "outputs": [
    {
     "data": {
      "text/plain": [
       "{'I': 0, 'P': 1, 'Br': 2, 'F': 3, 'Cl': 4, 'S': 5, 'N': 6, 'O': 7, 'C': 8}"
      ]
     },
     "execution_count": 38,
     "metadata": {},
     "output_type": "execute_result"
    }
   ],
   "source": [
    "elements"
   ]
  },
  {
   "cell_type": "code",
   "execution_count": null,
   "metadata": {},
   "outputs": [],
   "source": []
  }
 ],
 "metadata": {
  "kernelspec": {
   "display_name": "Python 3",
   "language": "python",
   "name": "python3"
  },
  "language_info": {
   "codemirror_mode": {
    "name": "ipython",
    "version": 3
   },
   "file_extension": ".py",
   "mimetype": "text/x-python",
   "name": "python",
   "nbconvert_exporter": "python",
   "pygments_lexer": "ipython3",
   "version": "3.6.8"
  }
 },
 "nbformat": 4,
 "nbformat_minor": 2
}
