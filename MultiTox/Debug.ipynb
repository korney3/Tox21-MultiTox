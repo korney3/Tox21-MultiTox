{
 "cells": [
  {
   "cell_type": "code",
   "execution_count": 1,
   "metadata": {},
   "outputs": [],
   "source": [
    "import load_data_multitox as ld\n",
    "import dataloaders_sigma as dl\n",
    "from Model_train_test_regression import Net, EarlyStopping, train_regression, test_regression, train_classification, test_classification\n",
    "\n",
    "import pandas as pd\n",
    "import numpy as np\n",
    "\n",
    "import torch\n",
    "from torch.utils import data as td\n",
    "import torch.nn as nn\n",
    "import torch.nn.functional as F\n",
    "from torch.nn import Parameter\n",
    "\n",
    "import sys \n",
    "import os\n",
    "import glob\n",
    "\n",
    "from sklearn.model_selection import train_test_split\n",
    "\n",
    "from tensorboardX import SummaryWriter\n",
    "\n",
    "import time\n",
    "from sklearn.preprocessing import MinMaxScaler#StandardScaler\n",
    "\n",
    "import json\n",
    "\n",
    "\n",
    "# number of conformers created for every molecule\n",
    "NUM_CONFS = 100\n",
    "\n",
    "# amount of chemical elements taking into account\n",
    "AMOUNT_OF_ELEM = 9\n",
    "\n",
    "# amount of target values\n",
    "TARGET_NUM = 29\n",
    "\n",
    "#dataset folder\n",
    "# DATASET_PATH=\"~/Tox21-MultiTox/MultiTox\"\n",
    "DATASET_PATH=\"./\"\n",
    "\n",
    "#logs path\n",
    "LOG_PATH=os.path.join(DATASET_PATH,\"logs_sigma_right\")\n",
    "\n",
    "\n",
    "#models path\n",
    "MODEL_PATH=os.path.join(DATASET_PATH,\"models_sigma_right\")"
   ]
  },
  {
   "cell_type": "code",
   "execution_count": 2,
   "metadata": {},
   "outputs": [],
   "source": [
    "EXPERIMENT_NUM=24"
   ]
  },
  {
   "cell_type": "code",
   "execution_count": 3,
   "metadata": {},
   "outputs": [],
   "source": [
    "dir_path = os.path.join(LOG_PATH,'exp_'+str(EXPERIMENT_NUM))\n",
    "os.makedirs(dir_path, exist_ok=True)\n",
    "LOG_PATH = dir_path\n",
    "dir_path = os.path.join(MODEL_PATH,'exp_'+str(EXPERIMENT_NUM))\n",
    "os.makedirs(dir_path, exist_ok=True)\n",
    "MODEL_PATH = dir_path"
   ]
  },
  {
   "cell_type": "code",
   "execution_count": 4,
   "metadata": {},
   "outputs": [],
   "source": [
    "path=\"./\""
   ]
  },
  {
   "cell_type": "code",
   "execution_count": 5,
   "metadata": {},
   "outputs": [],
   "source": [
    "with open(os.path.join(path,\"logs_sigma_right\",'exp_'+str(24),str(24)+'_parameters.json'),'r') as f:\n",
    "  args = json.load(f)"
   ]
  },
  {
   "cell_type": "code",
   "execution_count": 6,
   "metadata": {},
   "outputs": [],
   "source": [
    "# args['NUM_EXP']=str(EXPERIMENT_NUM)\n",
    "# args['BATCH_SIZE']=64\n",
    "\n",
    "# args['TRANSF']='w'\n",
    "# args['SIGMA_TRAIN']=False"
   ]
  },
  {
   "cell_type": "code",
   "execution_count": 7,
   "metadata": {},
   "outputs": [
    {
     "data": {
      "text/plain": [
       "{'EPOCHS_NUM': 100,\n",
       " 'PATIENCE': 25,\n",
       " 'SIGMA': 1.4,\n",
       " 'BATCH_SIZE': 128,\n",
       " 'TRANSF': 'g',\n",
       " 'NUM_EXP': '24',\n",
       " 'VOXEL_DIM': 50,\n",
       " 'LEARN_RATE': 1e-05,\n",
       " 'SIGMA_TRAIN': False}"
      ]
     },
     "execution_count": 7,
     "metadata": {},
     "output_type": "execute_result"
    }
   ],
   "source": [
    "args"
   ]
  },
  {
   "cell_type": "markdown",
   "metadata": {},
   "source": [
    "# Tox21 check"
   ]
  },
  {
   "cell_type": "code",
   "execution_count": 8,
   "metadata": {},
   "outputs": [],
   "source": [
    "conf_calc = ld.reading_sql_database(database_dir='/gpfs/gpfs0/a.alenicheva/Tox21/elements_9')"
   ]
  },
  {
   "cell_type": "code",
   "execution_count": 6,
   "metadata": {},
   "outputs": [],
   "source": [
    "tox21_data = pd.read_csv('../Tox21_Neural_Net/database/tox21_10k_data_all_no_salts.csv')"
   ]
  },
  {
   "cell_type": "code",
   "execution_count": 7,
   "metadata": {},
   "outputs": [
    {
     "data": {
      "text/plain": [
       "(7690, 13)"
      ]
     },
     "execution_count": 7,
     "metadata": {},
     "output_type": "execute_result"
    }
   ],
   "source": [
    "tox21_data.shape"
   ]
  },
  {
   "cell_type": "code",
   "execution_count": 9,
   "metadata": {},
   "outputs": [
    {
     "name": "stdout",
     "output_type": "stream",
     "text": [
      "CCCCCCCC[N+](CCCCCCCC)(CCCCCCCC)CCCCCCCC 74\n",
      "[C-]#N\n",
      "II\n",
      "NO\n",
      "[NH3+]O\n",
      "C=O\n",
      "[Br-] 99\n",
      "CO\n"
     ]
    }
   ],
   "source": [
    "elems = set([])\n",
    "for smiles in list(conf_calc.keys()):\n",
    "    if 0 in conf_calc[smiles].keys():\n",
    "        if 'coordinates' in conf_calc[smiles][0].keys():\n",
    "            elems = elems | set(conf_calc[smiles][0]['coordinates'].keys())\n",
    "        else:\n",
    "            print(smiles)\n",
    "    if len(conf_calc[smiles].keys())!=100:\n",
    "        print(smiles, len(conf_calc[smiles].keys()))"
   ]
  },
  {
   "cell_type": "code",
   "execution_count": 10,
   "metadata": {},
   "outputs": [
    {
     "data": {
      "text/plain": [
       "{'Br', 'C', 'Cl', 'F', 'I', 'N', 'O', 'P', 'S'}"
      ]
     },
     "execution_count": 10,
     "metadata": {},
     "output_type": "execute_result"
    }
   ],
   "source": [
    "elems"
   ]
  },
  {
   "cell_type": "code",
   "execution_count": 11,
   "metadata": {},
   "outputs": [
    {
     "data": {
      "text/plain": [
       "7489"
      ]
     },
     "execution_count": 11,
     "metadata": {},
     "output_type": "execute_result"
    }
   ],
   "source": [
    "len(conf_calc)"
   ]
  },
  {
   "cell_type": "code",
   "execution_count": 12,
   "metadata": {},
   "outputs": [
    {
     "data": {
      "text/plain": [
       "['C[n+]1c2cc(N)ccc2cc2ccc(N)cc21',\n",
       " 'O=C([O-])c1ccccc1-c1c2cc(Br)c(=O)c(Br)c-2oc2c(Br)c([O-])c(Br)cc12',\n",
       " 'CN(C)c1ccc(C(=C2C=CC(=[N+](C)C)C=C2)c2ccccc2)cc1',\n",
       " 'CCN(CC)C(=S)SSC(=S)N(CC)CC',\n",
       " 'CCCCCCCCNC(C)C(O)c1ccc(SC(C)C)cc1',\n",
       " 'CCCCCCOc1ccc(C(=N)N(CCCC)CCCC)c2ccccc12',\n",
       " 'COCC(=O)O[C@]1(CCN(C)CCCc2nc3ccccc3[nH]2)CCc2cc(F)ccc2[C@@H]1C(C)C',\n",
       " 'O[C@@H](CNC[C@H](O)[C@H]1CCc2cc(F)ccc2O1)[C@@H]1CCc2cc(F)ccc2O1',\n",
       " 'CC(C)(C)CC(C)(C)c1ccc(O)c(Cc2ccc(Cl)cc2Cl)c1',\n",
       " 'CCCCCNC(=N)N/N=C/c1c[nH]c2ccc(OC)cc12']"
      ]
     },
     "execution_count": 12,
     "metadata": {},
     "output_type": "execute_result"
    }
   ],
   "source": [
    "list(conf_calc.keys())[:10]"
   ]
  },
  {
   "cell_type": "code",
   "execution_count": 16,
   "metadata": {},
   "outputs": [
    {
     "data": {
      "text/plain": [
       "{'C': [(-3.6268269856638984, -1.0375925343625578, -0.02359165959177123),\n",
       "  (-2.4138089693296587, -1.7195390060281144, 0.04802283408855934),\n",
       "  (-1.2020822626167345, -1.0171005271923719, 0.052807899127492175),\n",
       "  (1.0426778304171557e-05, -1.7106172939141486, 0.09398429695263755),\n",
       "  (1.2020949618846781, -1.0170331317601495, 0.05281363361112956),\n",
       "  (2.4138291464117296, -1.7194057297669318, 0.04803058957657702),\n",
       "  (3.6268392793793782, -1.0373921845712302, -0.023588517237407958),\n",
       "  (3.652891960520005, 0.3471007663144677, -0.15088531054442594),\n",
       "  (2.444748082315201, 1.0518595703547133, -0.08506159968536847),\n",
       "  (1.1986740573974775, 0.39779530031740445, 0.02365028686073814)],\n",
       " 'N': [(-4.867185016227522, 1.0309796333721681, -0.11477480817525337),\n",
       "  (4.867174537683415, 1.0312452334279247, -0.11478520594885505)]}"
      ]
     },
     "execution_count": 16,
     "metadata": {},
     "output_type": "execute_result"
    }
   ],
   "source": [
    "conf_calc['C[n+]1c2cc(N)ccc2cc2ccc(N)cc21'][0]['coordinates']"
   ]
  },
  {
   "cell_type": "code",
   "execution_count": 27,
   "metadata": {},
   "outputs": [
    {
     "data": {
      "text/plain": [
       "dict_keys(['C', 'Cl'])"
      ]
     },
     "execution_count": 27,
     "metadata": {},
     "output_type": "execute_result"
    }
   ],
   "source": [
    "conf_calc['O=C(CCl)c1ccc(Cl)cc1Cl'][0]['coordinates'].keys()"
   ]
  },
  {
   "cell_type": "code",
   "execution_count": 14,
   "metadata": {},
   "outputs": [],
   "source": [
    "conf_calc1 = ld.reading_sql_database(database_dir='/gpfs/gpfs0/a.alenicheva/Tox21/elements_6')"
   ]
  },
  {
   "cell_type": "code",
   "execution_count": 52,
   "metadata": {},
   "outputs": [
    {
     "data": {
      "text/plain": [
       "7347"
      ]
     },
     "execution_count": 52,
     "metadata": {},
     "output_type": "execute_result"
    }
   ],
   "source": [
    "len(conf_calc1)"
   ]
  },
  {
   "cell_type": "code",
   "execution_count": 17,
   "metadata": {},
   "outputs": [
    {
     "data": {
      "text/plain": [
       "{'C': [(-3.624704689460949, -1.0400542624639746, -0.05604773612610772),\n",
       "  (-2.4111786710972973, -1.7206793154248343, 0.018851783553119755),\n",
       "  (-1.201936550446931, -1.0158418915971248, 0.07019916449832594),\n",
       "  (1.1994908132435334e-05, -1.70955351242743, 0.10216782102088526),\n",
       "  (1.2019507039585562, -1.0157521601115314, 0.07019740692399132),\n",
       "  (2.4112035582265365, -1.7204989008955929, 0.01884567237841947),\n",
       "  (3.624719640954574, -1.0397833209903073, -0.056055854932665045),\n",
       "  (3.6586629246579894, 0.35032192721200195, -0.043732996383501116),\n",
       "  (2.4471786865523066, 1.0525528689683572, -0.036762480784361035),\n",
       "  (1.199329685225353, 0.3993838118365083, 0.05882516027655085)],\n",
       " 'N': [(-4.858772969348557, 1.0223176233507927, -0.27026301226630467),\n",
       "  (4.8587579313542255, 1.022679579078178, -0.27025868587662294)],\n",
       " 'H': [(-0.8663963566244336, 2.8562394176823513, 0.8806435116357435),\n",
       "  (0.8663442349563052, 2.856285904619843, 0.8806726146794072),\n",
       "  (-2.517225571996689, 2.130519891410097, -0.1412597558738398),\n",
       "  (-4.916656421807678, 1.981208889706495, 0.05810842018880366),\n",
       "  (-5.699891461083922, 0.4971893007960779, -0.03816378622326996),\n",
       "  (-4.547785961206321, -1.61245520322073, -0.1354827268649558),\n",
       "  (-2.4273497000852395, -2.8105103479082296, 0.010010398322375907),\n",
       "  (2.0124866509686973e-05, -2.800354189771703, 0.10677880545568583),\n",
       "  (2.42739068834237, -2.810329253880003, 0.010000960529668562),\n",
       "  (4.547809182475955, -1.6121154061388712, -0.13549610828068417),\n",
       "  (5.69988490995839, 0.49760164587030686, -0.038184855600957135),\n",
       "  (4.916631566811285, 1.9815626099298782, 0.05814962023638612),\n",
       "  (2.5171940502353256, 2.1307066684927367, -0.14124749880884205)]}"
      ]
     },
     "execution_count": 17,
     "metadata": {},
     "output_type": "execute_result"
    }
   ],
   "source": [
    "conf_calc1['C[n+]1c2cc(N)ccc2cc2ccc(N)cc21'][0]['coordinates']"
   ]
  },
  {
   "cell_type": "code",
   "execution_count": 64,
   "metadata": {},
   "outputs": [],
   "source": [
    "elems1 = set([])\n",
    "for smiles in list(conf_calc1.keys()):\n",
    "    if 'coordinates' in conf_calc1[smiles][0].keys():\n",
    "        elems1 = elems1 | set(conf_calc1[smiles][0]['coordinates'].keys())\n",
    "    if len(conf_calc1[smiles].keys())!=100:\n",
    "        print(smiles)"
   ]
  },
  {
   "cell_type": "code",
   "execution_count": 65,
   "metadata": {},
   "outputs": [
    {
     "data": {
      "text/plain": [
       "{'C', 'Cl', 'H', 'N', 'O', 'S'}"
      ]
     },
     "execution_count": 65,
     "metadata": {},
     "output_type": "execute_result"
    }
   ],
   "source": [
    "elems1"
   ]
  },
  {
   "cell_type": "code",
   "execution_count": 53,
   "metadata": {},
   "outputs": [
    {
     "data": {
      "text/plain": [
       "{'8', '9'}"
      ]
     },
     "execution_count": 53,
     "metadata": {},
     "output_type": "execute_result"
    }
   ],
   "source": [
    "elems - elems1"
   ]
  },
  {
   "cell_type": "code",
   "execution_count": 60,
   "metadata": {},
   "outputs": [
    {
     "data": {
      "text/plain": [
       "{'CCCCC1(COC(=O)CCC(=O)O)C(=O)N(c2ccccc2)N(c2ccccc2)C1=O'}"
      ]
     },
     "execution_count": 60,
     "metadata": {},
     "output_type": "execute_result"
    }
   ],
   "source": [
    "set(conf_calc1.keys()) - set(conf_calc.keys())"
   ]
  },
  {
   "cell_type": "code",
   "execution_count": 59,
   "metadata": {
    "collapsed": true,
    "jupyter": {
     "outputs_hidden": true
    }
   },
   "outputs": [
    {
     "data": {
      "text/plain": [
       "{'C/C(=C(\\\\CCOC(=O)c1ccccc1)SS/C(CCOC(=O)c1ccccc1)=C(/C)N(C=O)Cc1cnc(C)nc1N)N(C=O)Cc1cnc(C)nc1N',\n",
       " 'C/C(=C\\\\C(=O)OCCCCCCCCC(=O)O)C[C@@H]1OC[C@H](C[C@@H]2O[C@H]2[C@@H](C)[C@H](C)O)[C@@H](O)[C@H]1O',\n",
       " 'C/C=C(/CC[C@@H](C)[C@H]1CC[C@H]2C3=CC[C@H]4[C@H](C)[C@@H](O)CC[C@]4(C)[C@H]3CC[C@@]21C)C(C)C',\n",
       " 'C=CCNC1=C2C[C@@H](C)C[C@H](OC)[C@H](O)[C@@H](C)/C=C(\\\\C)[C@H](OC(N)=O)[C@@H](OC)/C=C\\\\C=C(/C)C(=O)NC(=CC1=O)C2=O',\n",
       " 'C=CC[N+]1([C@H]2C[C@H]3[C@@H]4CC[C@H]5C[C@H](OC(C)=O)[C@@H](N6CCCCC6)C[C@]5(C)[C@H]4CC[C@]3(C)[C@H]2OC(=O)CC)CCCCC1',\n",
       " 'C=CC[N@@+]12CC[C@@]34c5ccccc5N5/C=C6/[C@H]7C[C@H]8[C@@]9(CC[N@@+]8(CC=C)C/C7=C/CO)c7ccccc7N(/C=C(/[C@@H](C[C@@H]31)/C(=C\\\\CO)C2)[C@H]54)[C@@H]69',\n",
       " 'C=C[C@]1(C)C[C@@H](OC(=O)CSC(C)(C)CNC(=O)[C@H](N)C(C)C)[C@]2(C)[C@H](C)CC[C@]3(CCC(=O)[C@H]32)[C@@H](C)[C@@H]1O',\n",
       " 'CC(=O)N(CC(O)CN(C(C)=O)c1c(I)c(C(=O)NCC(O)CO)c(I)c(C(=O)NCC(O)CO)c1I)c1c(I)c(C(=O)NCC(O)CO)c(I)c(C(=O)NCC(O)CO)c1I',\n",
       " 'CC(=O)NC1(c2cccc(F)c2)CCN(CC[C@@]2(c3ccc(Cl)c(Cl)c3)CN(c3ccccc3)C(=O)CO2)CC1',\n",
       " 'CC(=O)N[C@@H]1C(O[C@H]2O[C@H](C(=O)O)C(O)[C@H](O)[C@H]2O)[C@H](O)[C@@H](CO)O[C@H]1O[C@@H]1C(C(=O)O)O[C@@H](O[C@H]2[C@H](O)[C@@H](CO)OC(O)[C@@H]2NC(C)=O)[C@H](O)[C@H]1O',\n",
       " 'CC(=O)OC[C@H]1O[C@@H](O)[C@H](OC(=O)c2ccccc2C(=O)O)[C@@H](O)[C@@H]1O[C@@H]1O[C@H](COC(C)=O)[C@@H](O)[C@H](OC(=O)c2ccccc2C(=O)O)[C@H]1O',\n",
       " 'CC(=O)O[C@H]1C[C@@H]2CC[C@@H]3[C@H](CC[C@@]4(C)[C@H]3C[C@H](N3CC[N+](C)(C)CC3)[C@@H]4OC(C)=O)[C@@]2(C)C[C@@H]1N1CC[N+](C)(C)CC1',\n",
       " 'CC(=O)O[C@H]1C[C@@H]2CC[C@@H]3[C@H](CC[C@@]4(C)[C@H]3C[C@H]([N+]3(C)CCCCC3)[C@@H]4OC(C)=O)[C@@]2(C)C[C@@H]1[N+]1(C)CCCCC1',\n",
       " 'CC(C)(C)C(=O)OCOC(=O)[C@@H]1N2C(=O)[C@@H](N=CN3CCCCCC3)[C@H]2SC1(C)C',\n",
       " 'CC(C)(C)CCCCCCOC(=O)c1ccccc1C(=O)OCCCCCCC(C)(C)C',\n",
       " 'CC(C)(C)NC(=O)[C@@H]1C[C@@H]2CCCC[C@@H]2CN1C[C@@H](O)[C@H](Cc1ccccc1)NC(=O)[C@H](CC(N)=O)NC(=O)c1ccc2ccccc2n1',\n",
       " 'CC(C)(CO)C(O)C(=O)NCCC(=O)NCCSSCCNC(=O)CCNC(=O)C(O)C(C)(C)CO',\n",
       " 'CC(C)(COP(=O)([O-])OP(=O)([O-])OC[C@H]1O[C@@H](n2cnc3c(N)ncnc32)[C@H](O)[C@@H]1OP(=O)([O-])O)C(O)C(=O)NCCC(=O)NCCS',\n",
       " 'CC(C)=CCC/C(C)=C/C=C/C(C)=C/C=C/C(C)=C/C=C/C=C(C)/C=C/C=C(C)/C=C/C=C(\\\\C)CCC=C(C)C',\n",
       " 'CC(C)=CCC/C(C)=C/CC/C(C)=C/C(=O)OCC(=O)[C@@]1(O)CC[C@H]2[C@@H]3CCC4=CC(=O)C=C[C@]4(C)[C@H]3[C@@H](O)C[C@@]21C',\n",
       " 'CC(C)=CCC/C(C)=C/CC/C(C)=C/CC/C=C(\\\\C)CC/C=C(\\\\C)CCC=C(C)C',\n",
       " 'CC(C)CC(=O)N[C@H](C(=O)N[C@H](C(=O)N[C@@H](CC(C)C)[C@@H](O)CC(=O)N[C@@H](C)C(=O)N[C@@H](CC(C)C)[C@@H](O)CC(=O)O)C(C)C)C(C)C',\n",
       " 'CC(C)CCCCCCCOC(=O)CCCCC(=O)OCCCCCCCC(C)C',\n",
       " 'CC(C)CCCCCCCOC(=O)c1ccc(C(=O)OCCCCCCCC(C)C)c(C(=O)OCCCCCCCC(C)C)c1',\n",
       " 'CC(C)CCCCCCOC(=O)c1ccc(C(=O)OCCCCCCC(C)C)c(C(=O)OCCCCCCC(C)C)c1',\n",
       " 'CC(C)CCC[C@@H](C)[C@H]1CC[C@H]2[C@@H]3CC[C@@H]4C[C@H](O)CC[C@]4(C)[C@H]3CC[C@@]21C',\n",
       " 'CC(C)CN(C[C@@H](O)[C@H](Cc1ccccc1)NC(=O)O[C@H]1CO[C@H]2OCC[C@@H]12)S(=O)(=O)c1ccc(N)cc1',\n",
       " 'CC(C)CN(C[C@@H](OP(=O)([O-])[O-])[C@H](Cc1ccccc1)NC(=O)O[C@H]1CCOC1)S(=O)(=O)c1ccc(N)cc1',\n",
       " 'CC(C)C[C@H](NC(=O)[C@H](CCc1ccccc1)NC(=O)CN1CCOCC1)C(=O)N[C@@H](Cc1ccccc1)C(=O)N[C@@H](CC(C)C)C(=O)[C@@]1(C)CO1',\n",
       " 'CC(C)[C@@]1(NC(=O)[C@@H]2C[C@@H]3c4cccc5[nH]cc(c45)C[C@H]3N(C)C2)O[C@@]2(O)[C@@H]3CCCN3C(=O)[C@H](Cc3ccccc3)N2C1=O',\n",
       " 'CC(C)c1nc(CN(C)C(=O)N[C@H](C(=O)N[C@@H](Cc2ccccc2)C[C@H](O)[C@H](Cc2ccccc2)NC(=O)OCc2cncs2)C(C)C)cs1',\n",
       " 'CC1(C)C(/C=C\\\\C=C/C=C\\\\C=C2\\\\N(CCCCS(=O)(=O)[O-])c3ccc4ccccc4c3C2(C)C)=[N+](CCCCS(=O)(=O)[O-])c2ccc3ccccc3c21',\n",
       " 'CC1(C)[C@@H](O)CC[C@@]2(C)[C@H]1CC[C@]1(C)[C@@H]2C(=O)C=C2[C@@H]3C[C@@](C)(C(=O)O)CC[C@]3(C)CC[C@]21C',\n",
       " 'CC1(C)[C@@H](OC(=O)CCC(=O)[O-])CC[C@@]2(C)[C@H]1CC[C@]1(C)[C@@H]2C(=O)C=C2[C@@H]3C[C@@](C)(C(=O)[O-])CC[C@]3(C)CC[C@]21C',\n",
       " 'CC1=C(/C=C/C(C)=C/C=C/C(C)=C/C=C/C=C(C)/C=C/C=C(C)/C=C/C2=C(C)C(=O)CCC2(C)C)C(C)(C)CCC1=O',\n",
       " 'CC1=C(/C=C/C(C)=C/C=C/C(C)=C/C=C/C=C(C)/C=C/C=C(C)/C=C/C2=C(C)CCCC2(C)C)C(C)(C)CCC1',\n",
       " 'CC1=C(/C=C/C(C)=C/C=C/C(C)=C/C=C/C=C(C)/C=C/C=C(C)/C=C/C2=C(C)C[C@@H](O)CC2(C)C)C(C)(C)C[C@H](O)C1',\n",
       " 'CC1=C[C@H](O)CC(C)(C)[C@H]1/C=C/C(C)=C/C=C/C(C)=C/C=C/C=C(C)/C=C/C=C(C)/C=C/C1=C(C)C[C@@H](O)CC1(C)C',\n",
       " 'CCC(=O)O[C@H]1[C@@H](N2CCCCC2)C[C@H]2[C@@H]3CC[C@H]4C[C@H](OC(C)=O)[C@@H](N5CCCCC5)C[C@]4(C)[C@H]3CC[C@@]21C',\n",
       " 'CCC(C)(C)OC(=O)N[C@@H](Cc1c[nH]c2ccccc12)C(=O)N[C@@H](CCSC)C(=O)N[C@@H](CC(=O)O)C(=O)N[C@@H](Cc1ccccc1)C(N)=O',\n",
       " 'CCC1=C[C@@H]2CN(C1)Cc1c([nH]c3ccccc13)[C@@](C(=O)OC)(c1cc3c(cc1OC)N(C)[C@H]1[C@@](O)(C(=O)OC)[C@H](OC(C)=O)[C@]4(CC)C=CCN5CC[C@]31[C@@H]54)C2',\n",
       " 'CCC1OC(=O)C[C@@H](O)[C@H](C)[C@@H](O[C@@H]2O[C@H](C)C[C@H](N(C)C)[C@H]2O)[C@@H](CC=O)C[C@@H](C)C(=O)/C=C/[C@]2(C)OC2C1C',\n",
       " 'CCCC(=O)OC[C@@H](OC(=O)CCC)[C@@H](OC(=O)CCC)[C@H](Cn1c2nc(=O)[nH]c(=O)c-2nc2cc(C)c(C)cc21)OC(=O)CCC',\n",
       " 'CCCCC(=O)OCC(=O)[C@]1(O)Cc2c(O)c3c(c(O)c2[C@@H](O[C@H]2C[C@H](NC(=O)C(F)(F)F)[C@H](O)[C@H](C)O2)C1)C(=O)c1c(OC)cccc1C3=O',\n",
       " 'CCCCCCCC(=O)CC[C@H]1[C@H](O)C[C@H](O)[C@@H]1C/C=C\\\\CCCC(=O)OC(C)C',\n",
       " 'CCCCCCCC/C=C/CCCCCCCC(=O)OCCOCC(OCCO)C1OC(OCCO)CC1OCCO',\n",
       " 'CCCCCCCCCC(=O)O[C@H]1CC[C@H]2[C@@H]3CCC4=CC(=O)CC[C@]4(C)[C@H]3CC[C@]12C',\n",
       " 'CCCCCCCCCCCCCC/C(O)=N\\\\C(CO)CCCCCCCCCCCCCC',\n",
       " 'CCCCCCCCCCCCCCCC(=O)OC/C=C(C)/C=C/C=C(C)/C=C/C1=C(C)CCCC1(C)C',\n",
       " 'CCCCCCCCCCCCCCCCCC(=O)OCCCCCCCCCCCCCC(C)C',\n",
       " 'CCCCCCCCCCCCCCCCCCCCCC(=O)Nc1ccn([C@@H]2O[C@H](CO)[C@@H](O)[C@@H]2O)c(=O)n1',\n",
       " 'CCCCCCCCCCCCCCCCCCOC[C@H](COP(=O)([O-])OCC[N+](C)(C)C)OC',\n",
       " 'CCCCCCCCCCCCCCCCCCOP(=O)([O-])OC1CC[N+](C)(C)CC1',\n",
       " 'CCCCCCCCCCCCCCCCCC[N+](C)(C)CCC[Si](OC)(OC)OC',\n",
       " 'CCCCCCCCCCCCCCCCSCC(COC)COP(=O)([O-])OCC[N+](C)(C)C',\n",
       " 'CCCCCCCCCCCCCCCC[N+](C)(C)CCN(Cc1ccc(OC)cc1)c1ncccn1',\n",
       " 'CCCCCCCCCCCCCC[P+](CCCCCC)(CCCCCC)CCCCCC',\n",
       " 'CCCCCCCCCCCCCOC(=O)CCSCCC(=O)OCCCCCCCCCCCCC',\n",
       " 'CCCCCCCCCCCCOCCOCCOCCOCCOCCOCCOCCOCCOCCO',\n",
       " 'CCCCCCCCCCC[C@@H](C[C@@H]1OC(=O)[C@H]1CCCCCC)OC(=O)C(CC(C)C)NC=O',\n",
       " 'CCCCCCCCOc1ccccc1C(=O)Nc1ccc(C(=O)OCC[N+](C)(CC)CC)cc1',\n",
       " 'CCCCCCCC[N+](CCCCCCCC)(CCCCCCCC)CCCCCCCC',\n",
       " 'CCCCCCCC[P+](CCCCCCCC)(CCCCCCCC)CCCCCCCC',\n",
       " 'CCCCCCOC(=O)/N=C(/N)c1ccc(NCc2nc3cc(C(=O)N(CCC(=O)OCC)c4ccccn4)ccc3n2C)cc1',\n",
       " 'CCCCC[C@@H](O)C1C(=O)OC(C)[C@H](O)/C=C/C=C/C=C/C=C/C=C(\\\\C)C(O)C(O)C(O)C[C@H](O)C[C@H](O)C[C@H](O)C[C@H](O)C[C@@H]1O',\n",
       " 'CCCN(CCC)C(=O)C(CCC(=O)OCCCN1CCN(CCOC(=O)Cc2c(C)n(C(=O)c3ccc(Cl)cc3)c3ccc(OC)cc23)CC1)NC(=O)c1ccccc1',\n",
       " 'CCCOc1ccc(S(=O)(=O)N2CCN(CC)CC2)cc1-c1nc2c(CC)n(Cc3ccccn3)nc2c(=O)[nH]1',\n",
       " 'CCN(CC)CCOC[C@H]1O[C@@H](O)[C@H](OCCN(CC)CC)[C@@H](O)[C@@H]1O',\n",
       " 'CCN(CC)CCO[C@H]1CC[C@@]2(C)C(=CC[C@H]3[C@@H]4CCC(=O)[C@@]4(C)CC[C@@H]32)C1',\n",
       " 'CCN(CC)c1cc2[o+]c3cc(N(CC)CC)c(C)cc3c(-c3ccc(S(=O)(=O)[O-])cc3S(=O)(=O)[O-])c2cc1C',\n",
       " 'CCN(Cc1cccc(S(=O)(=O)[O-])c1)c1ccc(C(=C2C=CC(=[N+](CC)Cc3cccc(S(=O)(=O)[O-])c3)C=C2)c2ccc(O)cc2S(=O)(=O)[O-])cc1',\n",
       " 'CCN1C[C@@]2(COC)[C@H]3[C@@H](OC)[C@H]4C1[C@]3([C@@H](OC)C[C@H]2O)[C@@H]1C[C@]2(O)[C@@H](OC)[C@H](O)[C@@]4(OC(C)=O)[C@H]1[C@H]2OC(=O)c1ccccc1',\n",
       " 'CCOC(=O)Oc1c(OC)cc(C(=O)O[C@@H]2C[C@@H]3CN4CCc5c([nH]c6cc(OC)ccc56)[C@H]4C[C@@H]3[C@H](C(=O)OC)[C@H]2OC)cc1OC',\n",
       " 'CCOC(=O)[C@H](CCc1ccccc1)N[C@@H](C)C(=O)N1[C@H](C(=O)O)C[C@H]2CCCC[C@@H]21',\n",
       " 'CCOC(=O)c1ccc([C@H]2CC[C@H](NC[C@H](O)COc3ccc(O)c(NS(C)(=O)=O)c3)CC2)cc1',\n",
       " 'CCOc1nc2cccc(C(=O)OC(C)OC(=O)OC3CCCCC3)c2n1Cc1ccc(-c2ccccc2-c2nnn[nH]2)cc1',\n",
       " 'CC[C@@H]([C@H](C)O)n1ncn(-c2ccc(N3CCN(c4ccc(OCC5CO[C@@](Cn6cncn6)(c6ccc(F)cc6F)C5)cc4)CC3)cc2)c1=O',\n",
       " 'CC[C@@]1(O)C[C@H](O[C@H]2C[C@H](N(C)C)[C@H](O[C@H]3C[C@H](O)[C@H](O[C@H]4CCC(=O)[C@H](C)O4)[C@H](C)O3)[C@H](C)O2)c2c(cc3c(c2O)C(=O)c2c(O)cccc2C3=O)[C@H]1C(=O)OC',\n",
       " 'CC[C@@]1([C@@H]2O[C@@H]([C@H]3O[C@@](O)(CO)[C@H](C)C[C@@H]3C)C[C@@H]2C)CC[C@H]([C@]2(C)CC[C@]3(C[C@H](O)[C@@H](C)[C@@H]([C@@H](C)[C@@H](OC)[C@H](C)C(=O)[O-])O3)O2)O1',\n",
       " 'CC[C@H](C)C(=O)O[C@H]1C[C@H](O)C=C2C=C[C@H](C)[C@H](CC[C@@H](O)C[C@@H](O)CC(=O)[O-])[C@H]21',\n",
       " 'CC[C@H]1O[C@]2(CC[C@@H]1C)C[C@@H]1C[C@@H](C/C=C(\\\\C)C[C@@H](C)/C=C/C=C3\\\\CO[C@@H]4[C@H](O)C(C)=C[C@@H](C(=O)O1)[C@]34O)O2',\n",
       " 'CC[C@]1(O)C[C@@H]2CN(CCc3c([nH]c4ccccc34)[C@@](C(=O)OC)(c3cc4c(cc3OC)N(C)[C@H]3[C@@](O)(C(=O)OC)[C@H](OC(C)=O)[C@]5(CC)C=CCN6CC[C@]43[C@@H]65)C2)C1',\n",
       " 'CC[C@]1(O)C[C@H]2CN(CCc3c([nH]c4ccccc34)[C@@](C(=O)OC)(c3cc4c(cc3OC)N(C)[C@H]3[C@@](O)(C(N)=O)[C@H](O)[C@]5(CC)C=CCN6CC[C@]43[C@@H]65)C2)C1',\n",
       " 'CC[N+](CC)(CC)CCOc1cccc(OCC[N+](CC)(CC)CC)c1OCC[N+](CC)(CC)CC',\n",
       " 'CCc1cc(SCc2sc(-c3ccc(C(F)(F)F)cc3)nc2CN2CCN(c3ccc(OC)cc3)CC2)ccc1OCC(=O)O',\n",
       " 'CCn1nc(Cc2ccccc2)cc1C1CCN(C[C@H]2C[C@H](N(C)[C@@H](C(=O)O)C(C)C)C[C@@H]2c2cccc(F)c2)CC1',\n",
       " 'CN(C)C(=O)NC1(c2ccccc2)CCN(CCC[C@@]2(c3ccc(Cl)c(Cl)c3)CCCN(C(=O)c3ccccc3)C2)CC1',\n",
       " 'CN(C)C(=O)NC1(c2ccccc2)CCN(CC[C@@]2(c3ccc(F)c(F)c3)CN(C(=O)c3ccccc3)CCO2)CC1',\n",
       " 'CN(C)[C@@H]1C(O)=C(C(=O)NCN[C@@H](CCCCN)C(=O)O)C(=O)[C@@]2(O)C(O)=C3C(=O)c4c(O)cccc4[C@@](C)(O)C3C[C@@H]12',\n",
       " 'CN(CCCCCCCCCCN(C)C(=O)Oc1ccccc1[N+](C)(C)C)C(=O)Oc1ccccc1[N+](C)(C)C',\n",
       " 'CN(C[C@@H](CC[N+]12CCC(C3CCCCC3)(CC1)CC2)c1ccc(Cl)c(Cl)c1)C(=O)c1cc(C(F)(F)F)cc(C(F)(F)F)c1',\n",
       " 'CNC(=O)c1c(I)c(C(=O)NCC(=O)Nc2c(I)c(C(=O)O)c(I)c(C(=O)NCCO)c2I)c(I)c(N(C)C(C)=O)c1I',\n",
       " 'CN[C@@H]1[C@@H](O)[C@@H](O[C@@H]2[C@@H](O)[C@H](O[C@H]3O[C@H](CN)[C@@H](O)[C@H](O)[C@H]3O)[C@@H](N)C[C@H]2NC(=O)C(O)CN)OC[C@]1(C)O',\n",
       " 'CN[C@@H]1[C@H](O[C@H]2[C@H](O[C@@H]3[C@@H](NC(=N)N)[C@H](O)[C@@H](NC(=N)N)[C@H](O)[C@H]3O)O[C@@H](C)[C@]2(O)C=O)O[C@@H](CO)[C@H](O)[C@H]1O',\n",
       " 'CN[C@@H]1[C@H](O[C@H]2[C@H](O[C@@H]3[C@@H](NC(=N)N)[C@H](O)[C@@H](NC(=N)N)[C@H](O)[C@H]3O)O[C@@H](C)[C@]2(O)CO)O[C@@H](CO)[C@H](O)[C@H]1O',\n",
       " 'CO/N=C1/C[C@]2(C[C@@H]3C[C@@H](C/C=C(\\\\C)C[C@@H](C)/C=C/C=C4\\\\CO[C@@H]5[C@H](O)C(C)=C[C@@H](C(=O)O3)[C@]45O)O2)O[C@H](/C(C)=C/C(C)C)[C@H]1C',\n",
       " 'COC(=O)N[C@H](C(=O)N[C@@H](Cc1ccccc1)[C@@H](O)CN(Cc1ccc(-c2ccccn2)cc1)NC(=O)[C@@H](NC(=O)OC)C(C)(C)C)C(C)(C)C',\n",
       " 'COC(=O)[C@H]1[C@H]2C[C@@H]3c4[nH]c5cc(OC)ccc5c4CCN3C[C@H]2C[C@@H](OC(=O)C=Cc2cc(OC)c(OC)c(OC)c2)[C@@H]1OC',\n",
       " 'COC(=O)[C@H]1[C@H]2C[C@@H]3c4[nH]c5cc(OC)ccc5c4CCN3C[C@H]2C[C@H](OC)[C@@H]1OC',\n",
       " 'COC(=O)[C@H]1[C@H]2C[C@@H]3c4[nH]c5ccccc5c4CCN3C[C@H]2C[C@@H](OC(=O)c2cc(OC)c(OC)c(OC)c2)[C@@H]1OC',\n",
       " 'CO[C@H]1/C=C/O[C@@]2(C)Oc3c(C)c(O)c4c(O)c(c5c(nc6cc(C)ccn65)c4c3C2=O)NC(=O)/C(C)=C\\\\C=C\\\\[C@H](C)[C@H](O)[C@@H](C)[C@@H](O)[C@@H](C)[C@H](OC(C)=O)[C@@H]1C',\n",
       " 'CO[C@H]1/C=C/O[C@@]2(C)Oc3c(C)c(O)c4c(O)c(cc([O-])c4c3C2=O)NC(=O)/C(C)=C\\\\C=C\\\\[C@H](C)[C@H](O)[C@@H](C)[C@@H](O)[C@@H](C)[C@H](OC(C)=O)[C@@H]1C',\n",
       " 'CO[C@H]1[C@@H](O)[C@H](N)[C@@H](O[C@H]2O[C@H]([C@H](C)N)CC[C@H]2N)[C@H](O)[C@@H]1N(C)C(=O)CN',\n",
       " 'COc1c(O[C@@H]2O[C@H](CO)[C@@H](O)[C@H](O)[C@H]2O)cc2c(c1OC)-c1ccc(SC)c(=O)cc1[C@@H](NC(C)=O)CC2',\n",
       " 'COc1cc(/C=C/C(=O)O[C@H]2CC[C@]34C[C@]35CC[C@]3(C)[C@@H]([C@H](C)CCC=C(C)C)CC[C@@]3(C)[C@@H]5CC[C@H]4C2(C)C)ccc1O',\n",
       " 'COc1cc([C@@H]2c3cc4c(cc3C(O[C@@H]3O[C@@H]5COC(c6cccs6)O[C@H]5[C@H](O)[C@H]3O)C3COC(=O)[C@@H]32)OCO4)cc(OC)c1O',\n",
       " 'COc1cc2c(cc1O)CCN[C@]21CS[C@@H]2c3c(OC(C)=O)c(C)c4c(c3[C@H](COC1=O)N1[C@@H](O)[C@@H]3Cc5cc(C)c(OC)c(O)c5[C@H]([C@H]21)N3C)OCO4',\n",
       " 'COc1cc2c(cc1OC)C(C(C(=O)N(CCc1ccc(OC)c(OC)c1OC)CCc1ccc(OC)c(OC)c1OC)c1ccccc1)=NCC2',\n",
       " 'COc1cc2c(cc1OC)CC(=O)N(CCCN(C)C[C@H]1Cc3cc(OC)c(OC)cc31)CC2',\n",
       " 'COc1ccc([C@@H]2CC(=O)c3c(O)cc(O[C@@H]4O[C@H](CO[C@@H]5O[C@@H](C)[C@H](O)[C@@H](O)[C@H]5O)[C@@H](O)[C@H](O)[C@H]4O)cc3O2)cc1O',\n",
       " 'COc1ccc2cc(S(=O)(=O)N[C@H](CC(=O)N[C@H](Cc3ccc(CN4[C@@H](C)CCC[C@H]4C)cc3)C(=O)N(C)C(C)C)c3ccc4c(c3)OCO4)ccc2c1',\n",
       " 'COc1ccc2cc1Oc1cc3c(cc1OC)CC[N+](C)(C)[C@H]3Cc1ccc(cc1)Oc1c(OC)c(OC)cc3c1[C@@H](C2)[N+](C)(C)CC3',\n",
       " 'CSCC[C@H](NC(=O)[C@H](Cc1c[nH]c2ccccc12)NC(=O)CCNC(=O)OC(C)(C)C)C(=O)N[C@@H](CC(=O)O)C(=O)N[C@@H](Cc1ccccc1)C(N)=O',\n",
       " 'C[C@@H]1CC2(OC3C[C@@]4(C)C5=CC[C@H]6C(C)(C)C(O[C@@H]7OC[C@@H](O)[C@H](O)[C@H]7O)CC[C@@]67C[C@@]57CC[C@]4(C)C31)OC(O)C1(C)OC21',\n",
       " 'C[C@@H]1O[C@@H](OC[C@H]2O[C@@H](Oc3c(-c4ccc(OCCO)c(OCCO)c4)oc4cc(OCCO)cc(O)c4c3=O)[C@H](O)[C@@H](O)[C@@H]2O)[C@H](O)[C@H](O)[C@H]1O',\n",
       " 'C[C@@H]1O[C@@H](O[C@@H]2[C@@H](O)[C@H](OCCc3ccc(O)c(O)c3)O[C@H](CO[C@@H]3O[C@H](CO)[C@@H](O)[C@H](O)[C@H]3O)[C@H]2OC(=O)/C=C/c2ccc(O)c(O)c2)[C@H](O)[C@H](O)[C@H]1O',\n",
       " 'C[C@H](CCC(=O)O)[C@H]1CC[C@H]2[C@H]3[C@H](C[C@H](O)[C@@]21C)[C@@]1(C)CC[C@@H](O)C[C@H]1C[C@H]3O',\n",
       " 'C[C@]12CC[C@@H]3c4ccc(O)cc4C[C@@H](CCCCCCCCC[S+]([O-])CCCC(F)(F)C(F)(F)F)[C@H]3[C@@H]1CC[C@@H]2O',\n",
       " 'C[C@]12CC[C@H]3[C@H]([C@@H]1[C@@H]1C[C@@H]1[C@@]21CCC(=O)O1)[C@H]1C[C@H]1C1=CC(=O)CC[C@@]13C',\n",
       " 'C[N+](C)(CCCCCC[N+](C)(C)C1c2ccccc2-c2ccccc21)C1c2ccccc2-c2ccccc21',\n",
       " 'Cc1c(C)c2c(c(C)c1O)CC[C@@](C)(CCC[C@H](C)CCC[C@H](C)CCCC(C)C)O2',\n",
       " 'Cc1c(C)c2c(c(C)c1OC(=O)CCC(=O)O)CC[C@@](C)(CCC[C@H](C)CCC[C@H](C)CCCC(C)C)O2',\n",
       " 'Cc1c(C)c2c(c(C)c1OC(=O)CCC(=O)OCCO)CC[C@@](C)(CCC[C@H](C)CCC[C@H](C)CCCC(C)C)O2',\n",
       " 'Cc1cc(-c2ccc(/N=N/c3ccc4c(S(=O)(=O)[O-])cc(S(=O)(=O)[O-])c(N)c4c3O)c(C)c2)ccc1/N=N/c1ccc2c(S(=O)(=O)[O-])cc(S(=O)(=O)[O-])c(N)c2c1O',\n",
       " 'Cc1cc(-c2ccc(N=Nc3c(S(=O)(=O)[O-])cc4cc(S(=O)(=O)[O-])cc(N)c4c3O)c(C)c2)ccc1N=Nc1c(S(=O)(=O)[O-])cc2cc(S(=O)(=O)[O-])cc(N)c2c1O',\n",
       " 'Cc1cc(C(C)(C)C)c(O)c(C)c1Cn1c(=O)n(Cc2c(C)cc(C(C)(C)C)c(O)c2C)c(=O)n(Cc2c(C)cc(C(C)(C)C)c(O)c2C)c1=O',\n",
       " 'Cc1cc(O)c(C(=O)N[C@@H](C(=O)N[C@@H]2C(=O)N3C(C(=O)O)=C(CSc4nnnn4C)CS[C@H]23)c2ccc(O)cc2)cn1',\n",
       " 'Cc1cc(O)cc2c1O[C@](C)(CCC[C@H](C)CCC[C@H](C)CCCC(C)C)CC2',\n",
       " 'Cc1ccc(S(=O)(=O)Oc2ccc(N=Nc3ccc(-c4ccc(N=Nc5c(O)ccc6cc(S(=O)(=O)[O-])cc(S(=O)(=O)[O-])c56)c(C)c4)cc3C)cc2)cc1',\n",
       " 'Cc1cccc(C)c1OCC(=O)N[C@@H](Cc1ccccc1)[C@@H](O)C[C@H](Cc1ccccc1)NC(=O)[C@H](C(C)C)N1CCCNC1=O',\n",
       " 'Cc1occc1C(=O)Nc1ccc(C(=O)N2CCC(F)(F)/C(=C\\\\C(=O)N3CCC(N4CCCCC4)CC3)c3ccccc32)cc1',\n",
       " 'II',\n",
       " 'N=C(N)NCCCC[C@@H]1NC(=O)CCSSC[C@@H](C(N)=O)NC(=O)[C@@H]2CCCN2C(=O)[C@H](Cc2c[nH]c3ccccc23)NC(=O)[C@H](CC(=O)O)NC(=O)CNC1=O',\n",
       " 'NCCC[C@H](N)CC(=O)N[C@H]1CNC(=O)[C@H]([C@H]2C[C@H](O)N=C(N)N2)NC(=O)/C(=C/NC(N)=O)NC(=O)[C@H](CO)NC(=O)[C@H](CO)NC1=O',\n",
       " 'NC[C@@H]1O[C@H](O[C@@H]2[C@@H](CO)O[C@@H](O[C@@H]3[C@@H](O)[C@H](N)C[C@H](N)[C@H]3O[C@H]3O[C@H](CO)[C@@H](O)[C@H](O)[C@H]3N)[C@@H]2O)[C@H](N)[C@@H](O)[C@@H]1O',\n",
       " 'NC[C@H]1O[C@H](O[C@@H]2[C@@H](N)C[C@@H](N)[C@H](O[C@H]3O[C@H](CO)[C@@H](O)[C@H](N)[C@H]3O)[C@H]2O)[C@H](N)C[C@@H]1O',\n",
       " 'NC[C@H]1O[C@H](O[C@@H]2[C@@H](N)C[C@@H](N)[C@H](O[C@H]3O[C@H](CO)[C@@H](O)[C@H](N)[C@H]3O)[C@H]2O)[C@H](O)[C@@H](O)[C@@H]1O',\n",
       " 'N[C@@H](CCC(=O)N[C@@H](CSSC[C@H](NC(=O)CC[C@H](N)C(=O)O)C(=O)NCC(=O)O)C(=O)NCC(=O)O)C(=O)O',\n",
       " 'O=C(Nc1ccc(/C=C/c2ccc(NC(=O)c3cc(S(=O)(=O)O)c4cccnc4c3O)cc2S(=O)(=O)O)c(S(=O)(=O)O)c1)c1cc(S(=O)(=O)O)c2cccnc2c1O',\n",
       " 'O=C(O)Cc1cccc(-c2cc(CCCCCCc3ccc(O[C@H]4O[C@H](CO)[C@@H](O)[C@H](O)[C@@H]4O)c(-c4cccc(CC(=O)O)c4)c3)ccc2O[C@H]2O[C@H](CO)[C@@H](O)[C@H](O)[C@@H]2O)c1',\n",
       " 'O=C(O)c1cc(O)c2c(c1)[C@H]([C@H]1c3cc(C(=O)O)cc(O)c3C(=O)c3c(O[C@@H]4O[C@H](CO)[C@@H](O)[C@H](O)[C@H]4O)cccc31)c1cccc(O[C@@H]3O[C@H](CO)[C@@H](O)[C@H](O)[C@H]3O)c1C2=O',\n",
       " 'OCCN(CCO)c1nc(N2CCCCC2)c2nc(N(CCO)CCO)nc(N3CCCCC3)c2n1',\n",
       " '[Br-]'}"
      ]
     },
     "execution_count": 59,
     "metadata": {},
     "output_type": "execute_result"
    }
   ],
   "source": [
    "set(conf_calc.keys()) - set(conf_calc1.keys())"
   ]
  },
  {
   "cell_type": "markdown",
   "metadata": {},
   "source": [
    "# End check"
   ]
  },
  {
   "cell_type": "code",
   "execution_count": 7,
   "metadata": {},
   "outputs": [
    {
     "name": "stdout",
     "output_type": "stream",
     "text": [
      "Using device: cuda:0\n",
      "\n",
      "GeForce GTX 1080 Ti\n",
      "Memory Usage:\n",
      "Allocated: 0.0 GB\n",
      "Cached:    0.0 GB\n",
      "Start loading dataset...\n"
     ]
    }
   ],
   "source": [
    "f_log=open(os.path.join(LOG_PATH,args['NUM_EXP']+'_logs.txt'),'w')\n",
    "f_log.close()\n",
    "start_time=time.time()\n",
    "writer=SummaryWriter(LOG_PATH)\n",
    "device = torch.device('cuda:0' if torch.cuda.is_available() else 'cpu')\n",
    "print('Using device:', device)\n",
    "with open(os.path.join(LOG_PATH,args['NUM_EXP']+'_logs.txt'),'a') as f_log:\n",
    "    f_log.write('Using device:'+str(device)+'\\n')\n",
    "print()\n",
    "#Additional Info when using cuda\n",
    "if device.type == 'cuda':\n",
    "    print(torch.cuda.get_device_name(0))\n",
    "    print('Memory Usage:')\n",
    "    print('Allocated:', round(torch.cuda.memory_allocated(0)/1024**3,1), 'GB')\n",
    "    print('Cached:   ', round(torch.cuda.memory_cached(0)/1024**3,1), 'GB')\n",
    "\n",
    "    with open(os.path.join(LOG_PATH,args['NUM_EXP']+'_logs.txt'),'a') as f_log:\n",
    "        f_log.write(torch.cuda.get_device_name(0)+'\\n'+'Memory Usage:'+'\\n'+'Allocated:'+str(round(torch.cuda.memory_allocated(0)/1024**3,1))+ 'GB'+'\\n'+'Cached:   '+str(round(torch.cuda.memory_cached(0)/1024**3,1))+'GB'+'\\n')\n",
    "print('Start loading dataset...')\n",
    "with open(os.path.join(LOG_PATH,args['NUM_EXP']+'_logs.txt'),'a') as f_log:\n",
    "    f_log.write('Start loading dataset...'+'\\n')\n",
    "# get dataset without duplicates from csv\n",
    "data = pd.read_csv(os.path.join(DATASET_PATH,'database', 'data','MultiTox.csv'))\n",
    "props = list(data)[1:]\n",
    "scaler = MinMaxScaler()\n",
    "data[props]=scaler.fit_transform(data[props])\n",
    "\n",
    "# create elements dictionary\n",
    "#     elements = ld.create_element_dict(data, amount=AMOUNT_OF_ELEM+1)\n",
    "elements={'N':0,'C':1,'Cl':2,'I':3,'Br':4,'F':5,'O':6,'P':7,'S':8}\n",
    "\n",
    "# read databases to dictionary\n",
    "#     conf_calc = ld.reading_sql_database(database_dir='./dat/')\n",
    "with open(os.path.join('./','many_elems.json'), 'r') as fp:\n",
    "    conf_calc = json.load(fp)\n",
    "\n"
   ]
  },
  {
   "cell_type": "code",
   "execution_count": 8,
   "metadata": {},
   "outputs": [
    {
     "name": "stdout",
     "output_type": "stream",
     "text": [
      "Initial dataset size =  13091\n",
      "Post-processed dataset size =  13084\n",
      "Dataset has been loaded,  184  s\n",
      "Neural network initialization...\n"
     ]
    }
   ],
   "source": [
    "keys=list(conf_calc.keys())\n",
    "print ('Initial dataset size = ', len(keys))\n",
    "with open(os.path.join(LOG_PATH,args['NUM_EXP']+'_logs.txt'),'a') as f_log:\n",
    "    f_log.write('Initial dataset size = '+str(len(keys))+'\\n')\n",
    "new_conf_calc={}\n",
    "for smiles in conf_calc.keys():\n",
    "    for conf_num in conf_calc[smiles]:\n",
    "        if smiles in new_conf_calc.keys():\n",
    "            new_conf_calc[smiles][int(conf_num)]=conf_calc[smiles][conf_num]\n",
    "        else:\n",
    "            new_conf_calc[smiles]={}\n",
    "            new_conf_calc[smiles][int(conf_num)]=conf_calc[smiles][conf_num]\n",
    "\n",
    "conf_calc=new_conf_calc\n",
    "\n",
    "elems = []\n",
    "for key in keys:\n",
    "    conformers=list(conf_calc[key].keys())\n",
    "    for conformer in conformers:\n",
    "        try:\n",
    "            energy = conf_calc[key][conformer]['energy']\n",
    "            elems = list(set(elems+list(conf_calc[key][conformer]['coordinates'].keys())))\n",
    "        except:\n",
    "            del conf_calc[key][conformer]\n",
    "    if set(conf_calc[key].keys())!=set(range(100)):\n",
    "          del conf_calc[key]\n",
    "    elif conf_calc[key]=={}:\n",
    "        del conf_calc[key]\n",
    "\n",
    "print ('Post-processed dataset size = ', len(list(conf_calc.keys())))\n",
    "with open(os.path.join(LOG_PATH,args['NUM_EXP']+'_logs.txt'),'a') as f_log:\n",
    "    f_log.write('Post-processed dataset size = '+str(len(list(conf_calc.keys())))+'\\n')\n"
   ]
  },
  {
   "cell_type": "code",
   "execution_count": null,
   "metadata": {},
   "outputs": [],
   "source": [
    "# create indexing and label_dict for iteration\n",
    "indexing, label_dict = ld.indexing_label_dict(data, conf_calc)\n",
    "print('Dataset has been loaded, ', int(time.time()-start_time),' s')\n",
    "with open(os.path.join(LOG_PATH,args['NUM_EXP']+'_logs.txt'),'a') as f_log:\n",
    "    f_log.write('Dataset has been loaded, '+str(int(time.time()-start_time))+' s'+'\\n')\n",
    "\n",
    "start_time=time.time()\n",
    "# create train and validation sets' indexes\n",
    "print('Neural network initialization...')\n",
    "with open(os.path.join(LOG_PATH,args['NUM_EXP']+'_logs.txt'),'a') as f_log:\n",
    "    f_log.write('Neural network initialization...'+'\\n')\n"
   ]
  },
  {
   "cell_type": "code",
   "execution_count": 9,
   "metadata": {},
   "outputs": [],
   "source": [
    "train_indexes, test_indexes, _, _ = train_test_split(np.arange(0, len(conf_calc.keys())),\n",
    "                                                     np.arange(0, len(conf_calc.keys())), test_size=0.2,\n",
    "                                                     random_state=115)\n",
    "train_set = dl.Cube_dataset(conf_calc, label_dict, elements, indexing, train_indexes, dim = args['VOXEL_DIM'])\n",
    "train_generator = td.DataLoader(train_set, batch_size=args['BATCH_SIZE'], shuffle=True)\n",
    "\n",
    "test_set = dl.Cube_dataset(conf_calc, label_dict, elements, indexing, test_indexes, dim = args['VOXEL_DIM'])\n",
    "test_generator = td.DataLoader(test_set, batch_size=args['BATCH_SIZE'], shuffle=True)\n",
    "\n",
    "model = Net(dim=args['VOXEL_DIM'], num_elems=AMOUNT_OF_ELEM, num_targets=TARGET_NUM, elements=elements, transformation=args['TRANSF'],device=device,sigma_0 = args['SIGMA'],sigma_trainable = args['SIGMA_TRAIN'])\n"
   ]
  },
  {
   "cell_type": "code",
   "execution_count": 10,
   "metadata": {},
   "outputs": [],
   "source": [
    "from torch.autograd import Variable\n",
    "threshold = 5\n",
    "for i, (molecule, curr_target) in enumerate(train_generator):\n",
    "        molecule = Variable(molecule.to(device),requires_grad=True)\n",
    "        if i > threshold:\n",
    "            break\n",
    "# model = Net(dim=args_dict['VOXEL_DIM'], num_elems=AMOUNT_OF_ELEM, num_targets=TARGET_NUM, elements=elements, transformation=args_dict['TRANSF'],device=device,sigma_0 = args_dict['SIGMA'],sigma_trainable = args_dict['SIGMA_TRAIN'], x_trainable=True, x_input=torch.randn(1,9,50,50,50))\n",
    "# model=model.to(device)\n",
    "# model.load_state_dict(torch.load(os.path.join(MODEL_PATH_LOAD,'checkpoint.pt')))\n",
    "model.x_input=Parameter(molecule,requires_grad=True)"
   ]
  },
  {
   "cell_type": "code",
   "execution_count": 2,
   "metadata": {},
   "outputs": [],
   "source": [
    "def plot_visualization_input_as_parameter(model,elements,losses, epoch):\n",
    "    import matplotlib.pyplot as plt\n",
    "    inv_elems = {v: k for k, v in elements.items()}    \n",
    "    data=model.x_input\n",
    "    molecules = data.cpu().detach().sum(dim=0)\n",
    "    fig = plt.figure(figsize=(10,15),constrained_layout=True)\n",
    "    gs = fig.add_gridspec(4, 3)\n",
    "    for i,grad in enumerate(molecules):\n",
    "        f_ax = fig.add_subplot(gs[i//3,i%3])\n",
    "        f_ax.imshow(grad.sum(dim=0))\n",
    "        f_ax.set_title(inv_elems[i],fontsize=25)\n",
    "\n",
    "    f_ax = fig.add_subplot(gs[-1, :])\n",
    "    f_ax.plot(5*np.arange(0,len(losses),1),losses)\n",
    "    f_ax.set_title('Loss function',fontsize=25)\n",
    "    f_ax.set_xlabel('epochs',fontsize=25)\n",
    "    f_ax.set_ylabel('loss',fontsize=25)\n",
    "    fig.suptitle('Atom types in molecule',fontsize=25)\n",
    "    \n",
    "    plt.show()\n",
    "#     fig.savefig(os.path.join(LOG_PATH_SAVE,'images','img_'+str(epoch))+'.png',dpi=150,format='png')\n",
    "    _ = plt.clf()"
   ]
  },
  {
   "cell_type": "code",
   "execution_count": 3,
   "metadata": {},
   "outputs": [
    {
     "ename": "NameError",
     "evalue": "name 'model' is not defined",
     "output_type": "error",
     "traceback": [
      "\u001b[0;31m---------------------------------------------------------------------------\u001b[0m",
      "\u001b[0;31mNameError\u001b[0m                                 Traceback (most recent call last)",
      "\u001b[0;32m<ipython-input-3-37f8336e85d1>\u001b[0m in \u001b[0;36m<module>\u001b[0;34m\u001b[0m\n\u001b[0;32m----> 1\u001b[0;31m \u001b[0mplot_visualization_input_as_parameter\u001b[0m\u001b[0;34m(\u001b[0m\u001b[0mmodel\u001b[0m\u001b[0;34m,\u001b[0m\u001b[0melements\u001b[0m\u001b[0;34m,\u001b[0m\u001b[0;34m[\u001b[0m\u001b[0;34m]\u001b[0m\u001b[0;34m,\u001b[0m \u001b[0;36m1\u001b[0m\u001b[0;34m)\u001b[0m\u001b[0;34m\u001b[0m\u001b[0;34m\u001b[0m\u001b[0m\n\u001b[0m",
      "\u001b[0;31mNameError\u001b[0m: name 'model' is not defined"
     ]
    }
   ],
   "source": [
    "plot_visualization_input_as_parameter(model,elements,[], 1)"
   ]
  },
  {
   "cell_type": "code",
   "execution_count": 8,
   "metadata": {},
   "outputs": [
    {
     "data": {
      "text/plain": [
       "'./models_sigma_right/exp_24'"
      ]
     },
     "execution_count": 8,
     "metadata": {},
     "output_type": "execute_result"
    }
   ],
   "source": [
    "MODEL_PATH"
   ]
  },
  {
   "cell_type": "code",
   "execution_count": 11,
   "metadata": {},
   "outputs": [
    {
     "data": {
      "text/plain": [
       "<All keys matched successfully>"
      ]
     },
     "execution_count": 11,
     "metadata": {},
     "output_type": "execute_result"
    }
   ],
   "source": [
    " model.load_state_dict(torch.load(os.path.join('./models_sigma_right/exp_43','checkpoint.pt')))"
   ]
  },
  {
   "cell_type": "code",
   "execution_count": null,
   "metadata": {},
   "outputs": [],
   "source": [
    "train_set = dl.Cube_dataset(conf_calc, label_dict, elements, indexing, train_indexes, dim = args['VOXEL_DIM'])\n",
    "train_generator = td.DataLoader(train_set, batch_size=args['BATCH_SIZE'], shuffle=True)\n",
    "\n",
    "test_set = dl.Cube_dataset(conf_calc, label_dict, elements, indexing, test_indexes, dim = args['VOXEL_DIM'])\n",
    "test_generator = td.DataLoader(test_set, batch_size=args['BATCH_SIZE'], shuffle=True)\n",
    "\n",
    "model = Net(dim=args['VOXEL_DIM'], num_elems=AMOUNT_OF_ELEM, num_targets=TARGET_NUM, elements=elements, transformation=args['TRANSF'],device=device,sigma_0 = args['SIGMA'],sigma_trainable = args['SIGMA_TRAIN'])\n",
    "\n",
    "\n",
    "if torch.cuda.device_count() > 1:\n",
    "    model = nn.DataParallel(model)\n",
    "    print ('Run in parallel!')\n",
    "    with open(os.path.join(LOG_PATH,args['NUM_EXP']+'_logs.txt'),'a') as f_log:\n",
    "        f_log.write('Run in parallel!'+'\\n')\n",
    "\n",
    "# Construct our model by instantiating the class defined above\n",
    "\n",
    "model=model.to(device)\n",
    "\n",
    "for (batch, target) in train_generator:\n",
    "    batch = batch.to(device)\n",
    "    target = target.to(device)\n",
    "    with open(os.path.join(LOG_PATH,args['NUM_EXP']+'_logs.txt'),'a') as f_log:\n",
    "        f_log.write('Batch to device!'+'\\n')\n",
    "    print('Batch to device!')\n",
    "    output = model(batch)\n",
    "    with open(os.path.join(LOG_PATH,args['NUM_EXP']+'_logs.txt'),'a') as f_log:\n",
    "        f_log.write('Batch output!'+'\\n')\n",
    "    print('Batch output!')\n",
    "    break"
   ]
  },
  {
   "cell_type": "code",
   "execution_count": 1,
   "metadata": {},
   "outputs": [],
   "source": [
    "import os"
   ]
  },
  {
   "cell_type": "code",
   "execution_count": 2,
   "metadata": {},
   "outputs": [
    {
     "data": {
      "text/plain": [
       "['24_model_60',\n",
       " '24_model_30',\n",
       " '24_model_20',\n",
       " '24_model_10',\n",
       " 'checkpoint.pt',\n",
       " '24_model_50',\n",
       " '24_model_40',\n",
       " 'exp_24']"
      ]
     },
     "execution_count": 2,
     "metadata": {},
     "output_type": "execute_result"
    }
   ],
   "source": [
    "os.listdir('./models_sigma_right/exp_24')"
   ]
  },
  {
   "cell_type": "code",
   "execution_count": null,
   "metadata": {},
   "outputs": [],
   "source": []
  }
 ],
 "metadata": {
  "kernelspec": {
   "display_name": "Python 3",
   "language": "python",
   "name": "python3"
  },
  "language_info": {
   "codemirror_mode": {
    "name": "ipython",
    "version": 3
   },
   "file_extension": ".py",
   "mimetype": "text/x-python",
   "name": "python",
   "nbconvert_exporter": "python",
   "pygments_lexer": "ipython3",
   "version": "3.6.8"
  }
 },
 "nbformat": 4,
 "nbformat_minor": 4
}
