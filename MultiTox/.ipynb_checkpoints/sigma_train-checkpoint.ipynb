{
 "cells": [
  {
   "cell_type": "code",
   "execution_count": 2,
   "metadata": {},
   "outputs": [],
   "source": [
    "import pandas as pd\n",
    "import os"
   ]
  },
  {
   "cell_type": "code",
   "execution_count": 3,
   "metadata": {},
   "outputs": [],
   "source": [
    "DATA_DIR = './database'\n",
    "filename = 'MultiTox.csv'"
   ]
  },
  {
   "cell_type": "markdown",
   "metadata": {},
   "source": [
    "## Get some data from overall dataset"
   ]
  },
  {
   "cell_type": "code",
   "execution_count": 34,
   "metadata": {},
   "outputs": [],
   "source": [
    "THRESH_NAN = 3"
   ]
  },
  {
   "cell_type": "code",
   "execution_count": 4,
   "metadata": {},
   "outputs": [],
   "source": [
    "data = pd.read_csv(os.path.join(DATA_DIR,filename))"
   ]
  },
  {
   "cell_type": "code",
   "execution_count": 15,
   "metadata": {},
   "outputs": [],
   "source": [
    "columns = list(data)\n",
    "columns.remove('SMILES')"
   ]
  },
  {
   "cell_type": "code",
   "execution_count": 35,
   "metadata": {},
   "outputs": [],
   "source": [
    "nan = False\n",
    "for i in range(int(len(data)/10)):\n",
    "    data_selected = data.iloc[:i*10]\n",
    "    for column in columns:\n",
    "        if (~data_selected[column].isna()).sum()<THRESH_NAN:\n",
    "            nan = True\n",
    "            break\n",
    "    if nan: \n",
    "        nan = False\n",
    "        continue\n",
    "    else:\n",
    "        break"
   ]
  },
  {
   "cell_type": "code",
   "execution_count": 42,
   "metadata": {},
   "outputs": [
    {
     "name": "stdout",
     "output_type": "stream",
     "text": [
      "min not Nan values\t 3\n",
      "dataset length\t\t 1480\n",
      "o_mus_ipr_LD \t\t 576\n",
      "o_rat_orl_TDLo \t\t 19\n",
      "o_mus_ipr_LDLo \t\t 37\n",
      "o_mus_orl_TDLo \t\t 19\n",
      "o_rat_ipr_TDLo \t\t 22\n",
      "o_mus_ivn_LD \t\t 265\n",
      "o_rat_ipr_LD \t\t 74\n",
      "o_mus_orl_LD \t\t 536\n",
      "o_mus_unr_LD \t\t 27\n",
      "o_rat_unr_LD \t\t 5\n",
      "o_mus_scu_LDLo \t\t 4\n",
      "o_rat_scu_LD \t\t 26\n",
      "o_mus_scu_LD \t\t 81\n",
      "o_rat_ipr_LDLo \t\t 17\n",
      "o_mus_ipr_TDLo \t\t 22\n",
      "o_rbt_skn_LD \t\t 40\n",
      "o_rat_orl_LD \t\t 168\n",
      "o_rat_ivn_TDLo \t\t 6\n",
      "o_rat_orl_LDLo \t\t 21\n",
      "o_rbt_orl_LD \t\t 11\n",
      "o_rbt_ivn_LD \t\t 3\n",
      "o_rat_ivn_LD \t\t 23\n",
      "o_mus_orl_LDLo \t\t 22\n",
      "o_rat_skn_LD \t\t 15\n",
      "o_mam_unr_LD \t\t 9\n",
      "o_gpg_orl_LD \t\t 14\n",
      "o_wmn_orl_TDLo \t\t 9\n",
      "o_man_orl_TDLo \t\t 3\n",
      "o_rat_scu_TDLo \t\t 5\n"
     ]
    }
   ],
   "source": [
    "print('min not Nan values\\t', THRESH_NAN)\n",
    "print('dataset length\\t\\t', len(data_selected))\n",
    "for column in columns:\n",
    "    print(column,'\\t\\t', (~data_selected[column].isna()).sum())"
   ]
  },
  {
   "cell_type": "code",
   "execution_count": 43,
   "metadata": {},
   "outputs": [
    {
     "ename": "ModuleNotFoundError",
     "evalue": "No module named 'rdkit'",
     "output_type": "error",
     "traceback": [
      "\u001b[0;31m---------------------------------------------------------------------------\u001b[0m",
      "\u001b[0;31mModuleNotFoundError\u001b[0m                       Traceback (most recent call last)",
      "\u001b[0;32m<ipython-input-43-ec049ef53411>\u001b[0m in \u001b[0;36m<module>\u001b[0;34m\u001b[0m\n\u001b[1;32m      1\u001b[0m \u001b[0;32mimport\u001b[0m \u001b[0mnumpy\u001b[0m \u001b[0;32mas\u001b[0m \u001b[0mnp\u001b[0m\u001b[0;34m\u001b[0m\u001b[0;34m\u001b[0m\u001b[0m\n\u001b[0;32m----> 2\u001b[0;31m \u001b[0;32mfrom\u001b[0m \u001b[0mrdkit\u001b[0m \u001b[0;32mimport\u001b[0m \u001b[0mChem\u001b[0m\u001b[0;34m\u001b[0m\u001b[0;34m\u001b[0m\u001b[0m\n\u001b[0m\u001b[1;32m      3\u001b[0m \u001b[0;32mfrom\u001b[0m \u001b[0mrdkit\u001b[0m\u001b[0;34m.\u001b[0m\u001b[0mChem\u001b[0m \u001b[0;32mimport\u001b[0m \u001b[0mAllChem\u001b[0m\u001b[0;34m\u001b[0m\u001b[0;34m\u001b[0m\u001b[0m\n\u001b[1;32m      4\u001b[0m \u001b[0;32mfrom\u001b[0m \u001b[0mrdkit\u001b[0m\u001b[0;34m.\u001b[0m\u001b[0mChem\u001b[0m \u001b[0;32mimport\u001b[0m \u001b[0mrdMolTransforms\u001b[0m \u001b[0;32mas\u001b[0m \u001b[0mrdmt\u001b[0m\u001b[0;34m\u001b[0m\u001b[0;34m\u001b[0m\u001b[0m\n\u001b[1;32m      5\u001b[0m \u001b[0;32mfrom\u001b[0m \u001b[0mfunc_timeout\u001b[0m \u001b[0;32mimport\u001b[0m \u001b[0mFunctionTimedOut\u001b[0m\u001b[0;34m,\u001b[0m\u001b[0mfunc_set_timeout\u001b[0m\u001b[0;34m\u001b[0m\u001b[0;34m\u001b[0m\u001b[0m\n",
      "\u001b[0;31mModuleNotFoundError\u001b[0m: No module named 'rdkit'"
     ]
    }
   ],
   "source": [
    "import numpy as np\n",
    "from rdkit import Chem\n",
    "from rdkit.Chem import AllChem\n",
    "from rdkit.Chem import rdMolTransforms as rdmt\n",
    "from func_timeout import FunctionTimedOut,func_set_timeout"
   ]
  },
  {
   "cell_type": "code",
   "execution_count": null,
   "metadata": {},
   "outputs": [],
   "source": []
  }
 ],
 "metadata": {
  "kernelspec": {
   "display_name": "Python 3",
   "language": "python",
   "name": "python3"
  },
  "language_info": {
   "codemirror_mode": {
    "name": "ipython",
    "version": 3
   },
   "file_extension": ".py",
   "mimetype": "text/x-python",
   "name": "python",
   "nbconvert_exporter": "python",
   "pygments_lexer": "ipython3",
   "version": "3.6.8"
  }
 },
 "nbformat": 4,
 "nbformat_minor": 2
}
