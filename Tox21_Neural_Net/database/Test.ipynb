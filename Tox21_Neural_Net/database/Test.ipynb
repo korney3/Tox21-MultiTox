{
 "cells": [
  {
   "cell_type": "code",
   "execution_count": 1,
   "metadata": {},
   "outputs": [],
   "source": [
    "#!/usr/bin/env python\n",
    "from __future__ import print_function\n",
    "\n",
    "# from mpi4py import MPI\n",
    "\n",
    "import sqlite3\n",
    "\n",
    "import pandas as pd\n",
    "import numpy as np\n",
    "from rdkit import Chem\n",
    "from rdkit.Chem import AllChem\n",
    "from rdkit.Chem import rdMolTransforms as rdmt\n",
    "from func_timeout import FunctionTimedOut,func_set_timeout"
   ]
  },
  {
   "cell_type": "code",
   "execution_count": 2,
   "metadata": {},
   "outputs": [],
   "source": [
    "args = {}\n",
    "args[\"AMOUNT_OF_ELEM\"]  = 10\n",
    "args[\"NUM_CONFS\"] = 100\n",
    "args[\"FILENAME\"] = './data/tox21_10k_data_all_no_salts'\n",
    "args[\"DATA\"]='./data/tox21_10k_data_all_no_salts.csv'"
   ]
  },
  {
   "cell_type": "code",
   "execution_count": 12,
   "metadata": {},
   "outputs": [],
   "source": [
    "\n",
    "\n",
    "#number of conformers created for every molecule\n",
    "global NUM_CONFS\n",
    "NUM_CONFS=args[\"NUM_CONFS\"]\n",
    "\n",
    "#amount of chemical elements taking into account\n",
    "global AMOUNT_OF_ELEM\n",
    "AMOUNT_OF_ELEM=args[\"AMOUNT_OF_ELEM\"]\n",
    "\n",
    "\n",
    "def enum(*sequential, **named):\n",
    "    \"\"\"Handy way to fake an enumerated type in Python\n",
    "    http://stackoverflow.com/questions/36932/how-can-i-represent-an-enum-in-python\n",
    "    \"\"\"\n",
    "    enums = dict(zip(sequential, range(len(sequential))), **named)\n",
    "    return type('Enum', (), enums)\n",
    "\n",
    "# Define MPI message tags\n",
    "tags = enum('READY', 'DONE', 'EXIT', 'START')\n",
    "\n",
    "# # Initializations and preliminaries\n",
    "# comm = MPI.COMM_WORLD   # get MPI communicator object\n",
    "# size = comm.size        # total number of processes\n",
    "# rank = comm.rank        # rank of this process\n",
    "# status = MPI.Status()   # get MPI status object\n",
    "\n",
    "#creating array of elements in each chemical compound to use\n",
    "def create_element_dict(data,amount=9,treshold=10, add_H=False):\n",
    "    elements={}\n",
    "    norm=0\n",
    "    for j,smile in enumerate(data['SMILES']):\n",
    "        molecule=Chem.MolFromSmiles(smile)\n",
    "        try:\n",
    "            molecule=Chem.AddHs(molecule)\n",
    "        except:\n",
    "            data = data[data['SMILES'] != smile]\n",
    "            continue\n",
    "\n",
    "        for i in range(molecule.GetNumAtoms()):\n",
    "            atom = molecule.GetAtomWithIdx(i)\n",
    "            element=atom.GetSymbol()\n",
    "            norm+=1\n",
    "            if element in elements.keys():\n",
    "                elements[element]+=1\n",
    "            else:\n",
    "                elements[element]=1\n",
    "    for key in elements.keys():\n",
    "        elements[key]/=norm\n",
    "    from collections import OrderedDict\n",
    "    dd = OrderedDict(sorted(elements.items(), key=lambda x: x[1]))\n",
    "    elements=list(dd.keys())[-amount:]  \n",
    "    elements=dict((elem,i) for i, elem in enumerate(elements))  \n",
    "    if not add_H:\n",
    "        del elements['H']\n",
    "    return elements\n",
    "\n",
    "#read dataset\n",
    "data=pd.read_csv(args[\"DATA\"])\n",
    "global elements\n",
    "elements=create_element_dict(data,amount=AMOUNT_OF_ELEM)"
   ]
  },
  {
   "cell_type": "code",
   "execution_count": null,
   "metadata": {},
   "outputs": [],
   "source": []
  }
 ],
 "metadata": {
  "kernelspec": {
   "display_name": "my-rdkit-env",
   "language": "python",
   "name": "my-rdkit-env"
  },
  "language_info": {
   "codemirror_mode": {
    "name": "ipython",
    "version": 3
   },
   "file_extension": ".py",
   "mimetype": "text/x-python",
   "name": "python",
   "nbconvert_exporter": "python",
   "pygments_lexer": "ipython3",
   "version": "3.6.10"
  }
 },
 "nbformat": 4,
 "nbformat_minor": 4
}
